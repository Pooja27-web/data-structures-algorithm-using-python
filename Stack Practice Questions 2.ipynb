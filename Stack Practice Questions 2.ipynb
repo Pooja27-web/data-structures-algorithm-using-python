{
 "cells": [
  {
   "cell_type": "markdown",
   "id": "95868863-3a13-439c-8861-ea2fd76aded2",
   "metadata": {},
   "source": [
    "**Stack implementation based on array/list/linked_list : practice questions**"
   ]
  },
  {
   "cell_type": "markdown",
   "id": "fd29caa9-d479-4b4c-8c6b-a7e75d3708da",
   "metadata": {},
   "source": [
    "**1 . Parentheses Positioning Error:**"
   ]
  },
  {
   "cell_type": "markdown",
   "id": "45d23aad-3449-411a-80ec-9c1a6234d6da",
   "metadata": {},
   "source": [
    "**• Write a function to find the position of the first mismatched parenthesis in a given\n",
    "string. Return -1 if all parentheses are balanced**"
   ]
  },
  {
   "cell_type": "code",
   "execution_count": 1,
   "id": "5381b048-9c51-4e6c-9247-09effefc69bb",
   "metadata": {},
   "outputs": [
    {
     "name": "stdout",
     "output_type": "stream",
     "text": [
      "4\n"
     ]
    }
   ],
   "source": [
    "def find_mismatch(s):\n",
    "    stack = []\n",
    "    for i, char in enumerate(s):\n",
    "        if char == '(':\n",
    "            stack.append(i)\n",
    "        elif char == ')':\n",
    "            if stack:\n",
    "                stack.pop()\n",
    "            else:\n",
    "                return i \n",
    "    return stack[0] if stack else -1  \n",
    "\n",
    "\n",
    "s = \"(()))\"\n",
    "print(find_mismatch(s))  # Output: 4\n"
   ]
  },
  {
   "cell_type": "markdown",
   "id": "4c51d774-7bde-4f41-9c1a-404ff14f7ba4",
   "metadata": {},
   "source": [
    "**2. Parentheses in a Long String**"
   ]
  },
  {
   "cell_type": "markdown",
   "id": "6b4b92a0-ff9e-486a-b0c8-afce5dd61182",
   "metadata": {},
   "source": [
    "**• Given a long string with multiple characters, find all the positions where parentheses\n",
    "are balanced and return them.**"
   ]
  },
  {
   "cell_type": "code",
   "execution_count": 2,
   "id": "5f038bcd-3ccc-40e3-b921-58e9637618bc",
   "metadata": {},
   "outputs": [
    {
     "name": "stdout",
     "output_type": "stream",
     "text": [
      "[(1, 3), (5, 7), (9, 12)]\n"
     ]
    }
   ],
   "source": [
    "def find_balanced_positions(s):\n",
    "    stack = []\n",
    "    balanced_positions = []\n",
    "    \n",
    "    for i, char in enumerate(s):\n",
    "        if char == '(':\n",
    "            stack.append(i)\n",
    "        elif char == ')':\n",
    "            if stack:\n",
    "                balanced_positions.append((stack.pop(), i))\n",
    "    \n",
    "    return balanced_positions\n",
    "\n",
    "\n",
    "s = \"a(b)c(d)e(fg)h\"\n",
    "print(find_balanced_positions(s))  \n"
   ]
  },
  {
   "cell_type": "markdown",
   "id": "fbc12b47-a2bf-4260-ac2d-4f11c85fcc32",
   "metadata": {},
   "source": [
    "**3. Minimum Number of Parentheses to Add**"
   ]
  },
  {
   "cell_type": "markdown",
   "id": "bf3f3f16-7203-4ff6-ba12-5b05805cdd28",
   "metadata": {},
   "source": [
    "**• Given a string with parentheses, find the minimum number of parentheses needed to\n",
    "be added to make the string valid**"
   ]
  },
  {
   "cell_type": "code",
   "execution_count": 3,
   "id": "45dce5d0-15d4-4a82-b66d-4915879d0ed7",
   "metadata": {},
   "outputs": [
    {
     "name": "stdout",
     "output_type": "stream",
     "text": [
      "2\n"
     ]
    }
   ],
   "source": [
    "def min_add_to_make_valid(s):\n",
    "    stack = []\n",
    "    count = 0\n",
    "    \n",
    "    for char in s:\n",
    "        if char == '(':\n",
    "            stack.append(char)\n",
    "        elif char == ')':\n",
    "            if stack:\n",
    "                stack.pop()\n",
    "            else:\n",
    "                count += 1  \n",
    "    \n",
    "    return count + len(stack)  \n",
    "\n",
    "\n",
    "s = \"())(\"\n",
    "print(min_add_to_make_valid(s))  \n"
   ]
  },
  {
   "cell_type": "markdown",
   "id": "45ad828e-4bd2-4802-a4b9-f3bdb9cce3ad",
   "metadata": {},
   "source": [
    "**4. Longest Valid Parentheses Substring**\n"
   ]
  },
  {
   "cell_type": "markdown",
   "id": "a4fd5b3e-4735-4347-bafb-f5a13db42bdb",
   "metadata": {},
   "source": [
    "**• Given a string containing just the characters ( and ), find the length of the longest\n",
    "valid (well-formed) parentheses substring.**"
   ]
  },
  {
   "cell_type": "code",
   "execution_count": 5,
   "id": "f5d7ac69-ef4c-4de8-9067-0c002e70a183",
   "metadata": {},
   "outputs": [
    {
     "name": "stdout",
     "output_type": "stream",
     "text": [
      "6\n"
     ]
    }
   ],
   "source": [
    "def longest_valid_parentheses(s):\n",
    "    stack = [-1]\n",
    "    max_length = 0\n",
    "    \n",
    "    for i, char in enumerate(s):\n",
    "        if char == '(':\n",
    "            stack.append(i)\n",
    "        else:\n",
    "            stack.pop()\n",
    "            if stack:\n",
    "                max_length = max(max_length, i - stack[-1])\n",
    "            else:\n",
    "                stack.append(i)\n",
    "    \n",
    "    return max_length\n",
    "\n",
    "\n",
    "s = \"(()())\"\n",
    "print(longest_valid_parentheses(s))  \n"
   ]
  },
  {
   "cell_type": "code",
   "execution_count": null,
   "id": "02a6d9e3-ed35-490f-967d-8b681da04100",
   "metadata": {},
   "outputs": [],
   "source": []
  }
 ],
 "metadata": {
  "kernelspec": {
   "display_name": "Python 3 (ipykernel)",
   "language": "python",
   "name": "python3"
  },
  "language_info": {
   "codemirror_mode": {
    "name": "ipython",
    "version": 3
   },
   "file_extension": ".py",
   "mimetype": "text/x-python",
   "name": "python",
   "nbconvert_exporter": "python",
   "pygments_lexer": "ipython3",
   "version": "3.12.7"
  }
 },
 "nbformat": 4,
 "nbformat_minor": 5
}
