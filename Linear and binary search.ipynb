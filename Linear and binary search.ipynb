{
 "cells": [
  {
   "cell_type": "code",
   "execution_count": 3,
   "id": "0f3bafdc-f943-4eab-af71-6ac2a5318dbf",
   "metadata": {},
   "outputs": [
    {
     "name": "stdin",
     "output_type": "stream",
     "text": [
      "Element to search 0\n"
     ]
    },
    {
     "name": "stdout",
     "output_type": "stream",
     "text": [
      "Element not found in the array\n"
     ]
    }
   ],
   "source": [
    "def linear_search(arr, search_element):\n",
    "    n = len(arr)\n",
    "    for i in range(n):\n",
    "        if arr[i] == search_element:\n",
    "            return i  \n",
    "    return -1  \n",
    "array = [10, 20, 30, 40, 50]\n",
    "search_element = int(input(\"Element to search\"))\n",
    "\n",
    "location = linear_search(array, search_element)\n",
    "\n",
    "if location != -1:\n",
    "    print(\"Element found at index\",location)\n",
    "else:\n",
    "    print(\"Element not found in the array\")\n"
   ]
  },
  {
   "cell_type": "code",
   "execution_count": null,
   "id": "30b9d897-be66-4c50-b142-29d6c454aca8",
   "metadata": {},
   "outputs": [],
   "source": [
    "\"\"\"\n",
    "low = 1\n",
    "n = int (input(\"Enter N value:\"))\n",
    "d = int (input(\"Enter D value:\"))\n",
    "high = n\n",
    "while low<=high:\n",
    "  mid=(low+high)//2\n",
    "  sum_d=sum(int(i)for i in str(mid))\n",
    "  if (mid-sum_d)<=2:\n",
    "    low=mid+1\n",
    "  else:\n",
    "    high=mid-1\n",
    "print(n-high)\n",
    "\"\"\""
   ]
  },
  {
   "cell_type": "code",
   "execution_count": 7,
   "id": "6039c705-6677-4e04-a13b-50b48eea59d7",
   "metadata": {},
   "outputs": [
    {
     "name": "stdout",
     "output_type": "stream",
     "text": [
      "Element is present at index 3\n"
     ]
    }
   ],
   "source": [
    "def binary_search(arr, target):\n",
    "    low = 0\n",
    "    high = len(arr) - 1\n",
    "\n",
    "    while low <= high:\n",
    "        mid_point = (low + high) // 2\n",
    "        if arr[mid_point] == target:\n",
    "            return mid_point\n",
    "        elif arr[mid_point] < target:\n",
    "            low = mid_point + 1\n",
    "        else:\n",
    "            high = mid_point - 1 \n",
    "    return -1\n",
    "arr = [2, 3, 4, 10, 40]\n",
    "target = 10\n",
    "result = binary_search(arr, target)\n",
    "if result != -1:\n",
    "    print(\"Element is present at index\",result)\n",
    "else:\n",
    "    print(\"Element is not present in array\")"
   ]
  },
  {
   "cell_type": "code",
   "execution_count": 15,
   "id": "6d17c607-6e61-4c6b-bcb0-7b2eb386c139",
   "metadata": {},
   "outputs": [
    {
     "name": "stdin",
     "output_type": "stream",
     "text": [
      "Element to search :  4\n"
     ]
    },
    {
     "name": "stdout",
     "output_type": "stream",
     "text": [
      "Element not found in the array.\n"
     ]
    }
   ],
   "source": [
    "# linear search \n",
    "def linear_search(arr, key):\n",
    "    size = len(arr)\n",
    "    index = 0\n",
    "    while index<size:\n",
    "        if arr[index]==key:\n",
    "            return index\n",
    "        index = index+1\n",
    "    return -1\n",
    "\n",
    "# example usage\n",
    "arr = [15,10,0,20,40]\n",
    "key = int(input(\"Element to search : \"))\n",
    "position = linear_search(arr, key)\n",
    "if position == -1:\n",
    "    print(\"Element not found in the array.\")\n",
    "else:\n",
    "    print(\"Element found.\")"
   ]
  },
  {
   "cell_type": "code",
   "execution_count": null,
   "id": "08d68a75-bcb0-4b58-8590-ad71c1fd391f",
   "metadata": {},
   "outputs": [],
   "source": []
  }
 ],
 "metadata": {
  "kernelspec": {
   "display_name": "Python 3 (ipykernel)",
   "language": "python",
   "name": "python3"
  },
  "language_info": {
   "codemirror_mode": {
    "name": "ipython",
    "version": 3
   },
   "file_extension": ".py",
   "mimetype": "text/x-python",
   "name": "python",
   "nbconvert_exporter": "python",
   "pygments_lexer": "ipython3",
   "version": "3.12.4"
  }
 },
 "nbformat": 4,
 "nbformat_minor": 5
}
