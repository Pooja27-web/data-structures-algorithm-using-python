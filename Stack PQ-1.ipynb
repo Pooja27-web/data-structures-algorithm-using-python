{
 "cells": [
  {
   "cell_type": "markdown",
   "id": "418b806d-e51a-440c-9b79-cc36893d31ce",
   "metadata": {},
   "source": [
    "**Stack implementation based on list: practice questions**"
   ]
  },
  {
   "cell_type": "markdown",
   "id": "e1a2a82e-2094-428d-8039-7a9f6df5d1ce",
   "metadata": {},
   "source": [
    "**1. Reverse a String using a Stack**"
   ]
  },
  {
   "cell_type": "markdown",
   "id": "754f66d2-a380-4dee-854a-4d8fecf27a04",
   "metadata": {},
   "source": [
    "**• Implement a stack using a list and write a function to reverse a given string. Push\n",
    "each character of the string onto the stack, then pop each character off the stack to\n",
    "reverse the string**"
   ]
  },
  {
   "cell_type": "code",
   "execution_count": 16,
   "id": "2d688a0b-6073-426f-9002-a5549ffef093",
   "metadata": {},
   "outputs": [
    {
     "name": "stdin",
     "output_type": "stream",
     "text": [
      "Enter the String :  hello\n"
     ]
    },
    {
     "data": {
      "text/plain": [
       "'olleh'"
      ]
     },
     "execution_count": 16,
     "metadata": {},
     "output_type": "execute_result"
    }
   ],
   "source": [
    "class Stack:\n",
    "    \n",
    "    def __init__(self):\n",
    "        self.stack = []\n",
    "        \n",
    "    def push(self, item):\n",
    "        self.stack.append(item)\n",
    "        \n",
    "    def pop(self):\n",
    "        return self.stack.pop() if not self.is_empty() else None\n",
    "        \n",
    "    def is_empty(self):\n",
    "        return len(self.stack) == 0\n",
    "        \n",
    "def reverse_string(str):\n",
    "    stack = Stack()\n",
    "    \n",
    "    for char in str:\n",
    "        stack.push(char)\n",
    "        \n",
    "    reversed_str = \"\"\n",
    "    \n",
    "    while not stack.is_empty():\n",
    "        reversed_str += stack.pop()\n",
    "    return reversed_str\n",
    "\n",
    "\n",
    "str = input(\"Enter the String : \")\n",
    "reverse_string(str)"
   ]
  },
  {
   "cell_type": "markdown",
   "id": "f828fb8f-8c26-4488-807b-740eca2cd683",
   "metadata": {},
   "source": [
    "**2. Stack Sort Algorithm**"
   ]
  },
  {
   "cell_type": "markdown",
   "id": "13dfdafb-b332-4c7d-a3ad-0bac3fcd0f8c",
   "metadata": {},
   "source": [
    "**• Implement a stack using a list and sort the elements using only stack operations\r\n",
    "(i.e., push, pop). You are not allowed to use any other data structures like lists,\r\n",
    "queues, or arrays to store intermediate elemen**ts"
   ]
  },
  {
   "cell_type": "code",
   "execution_count": 18,
   "id": "a88a3281-26f8-4278-82e9-bbb1e92fe05a",
   "metadata": {},
   "outputs": [
    {
     "name": "stdout",
     "output_type": "stream",
     "text": [
      "1 2 3 4 5 "
     ]
    }
   ],
   "source": [
    "class Stack:\n",
    "    def __init__(self):\n",
    "        self.stack = []\n",
    "\n",
    "    def push(self, item):\n",
    "        self.stack.append(item)\n",
    "\n",
    "    def pop(self):\n",
    "        return self.stack.pop()\n",
    "\n",
    "    def peek(self):\n",
    "        return self.stack[-1] if self.stack else None\n",
    "\n",
    "    def is_empty(self):\n",
    "        return len(self.stack) == 0\n",
    "\n",
    "def sort_stack(stack):\n",
    "    temp_stack = Stack()\n",
    "    \n",
    "    while not stack.is_empty():\n",
    "        temp = stack.pop()\n",
    "        while not temp_stack.is_empty() and temp_stack.peek() > temp:\n",
    "            stack.push(temp_stack.pop())\n",
    "        temp_stack.push(temp)\n",
    "    \n",
    "    while not temp_stack.is_empty():\n",
    "        stack.push(temp_stack.pop())\n",
    "\n",
    "s = Stack()\n",
    "for num in [3, 5, 1, 4, 2]:\n",
    "    s.push(num)\n",
    "\n",
    "sort_stack(s)\n",
    "while not s.is_empty():\n",
    "    print(s.pop(), end=\" \")"
   ]
  },
  {
   "cell_type": "markdown",
   "id": "66df4e88-a3b0-4f30-8576-2b978c47a63b",
   "metadata": {},
   "source": [
    "**3. Implement a Stack for Queue Operations**"
   ]
  },
  {
   "cell_type": "markdown",
   "id": "3d73e3b7-9247-44dd-a1dc-00146c78c6fc",
   "metadata": {},
   "source": [
    "**• Use two stacks (implemented with lists) to simulate the behavior of a queue.\r\n",
    "Implement the following operations:\r\n",
    "▪ enqueue(x): Add element x to the queue.\r\n",
    "▪ dequeue(): Remove and return the element at the front of the qu**eue"
   ]
  },
  {
   "cell_type": "code",
   "execution_count": 23,
   "id": "d7785cd2-3dcb-4f07-893a-facd5232a996",
   "metadata": {},
   "outputs": [
    {
     "name": "stdout",
     "output_type": "stream",
     "text": [
      "1\n",
      "2\n"
     ]
    }
   ],
   "source": [
    "class QueueUsingStacks:\n",
    "    def __init__(self):\n",
    "        self.stack1 = []\n",
    "        self.stack2 = []\n",
    "\n",
    "    def enqueue(self, x):\n",
    "        self.stack1.append(x)\n",
    "\n",
    "    def dequeue(self):\n",
    "        if not self.stack2:\n",
    "            while self.stack1:\n",
    "                self.stack2.append(self.stack1.pop())\n",
    "        return self.stack2.pop() if self.stack2 else None\n",
    "\n",
    "q = QueueUsingStacks()\n",
    "q.enqueue(1)\n",
    "q.enqueue(2)\n",
    "q.enqueue(3)\n",
    "print(q.dequeue())  \n",
    "print(q.dequeue())  "
   ]
  },
  {
   "cell_type": "markdown",
   "id": "b9f4e0c1-29bb-41f2-a0a9-42dd370bd391",
   "metadata": {},
   "source": [
    "**4. Undo/Redo Operation with Stack**"
   ]
  },
  {
   "cell_type": "markdown",
   "id": "6e505e43-ae60-4e20-9437-787b905b302f",
   "metadata": {},
   "source": [
    "**Implement an undo/redo system using two stacks. One stack will hold the history\r\n",
    "of actions (for undo), and another stack will hold the actions that were undone (for\r\n",
    "redo). The stack should be able to support undo() and redo() operatio**ns"
   ]
  },
  {
   "cell_type": "code",
   "execution_count": 27,
   "id": "8cd88d45-6b93-4520-8769-b73f0da75c81",
   "metadata": {},
   "outputs": [],
   "source": [
    "class UndoRedoStack:\n",
    "    def __init__(self):\n",
    "        self.undo_stack = []\n",
    "        self.redo_stack = []\n",
    "\n",
    "    def perform_action(self, action):\n",
    "        self.undo_stack.append(action)\n",
    "        self.redo_stack.clear()\n",
    "\n",
    "    def undo(self):\n",
    "        if self.undo_stack:\n",
    "            self.redo_stack.append(self.undo_stack.pop())\n",
    "\n",
    "    def redo(self):\n",
    "        if self.redo_stack:\n",
    "            self.undo_stack.append(self.redo_stack.pop())\n",
    "\n",
    "editor = UndoRedoStack()\n",
    "editor.perform_action(\"Type A\")\n",
    "editor.perform_action(\"Type B\")\n",
    "editor.undo()\n",
    "editor.redo()"
   ]
  },
  {
   "cell_type": "markdown",
   "id": "9e881733-c781-4946-8afd-cec1338b0d1b",
   "metadata": {},
   "source": [
    "**5. Implement a Stack that Supports Getting the Middle Element**"
   ]
  },
  {
   "cell_type": "markdown",
   "id": "fc876df7-9013-4da2-9799-384c328b210e",
   "metadata": {},
   "source": [
    "**• Implement a stack using a list that supports the following operations:\r\n",
    "o push(x): Push an element onto the stack.\r\n",
    "o pop(): Remove the element at the top of the stack.\r\n",
    "o get_middle(): Return the middle element of the stack. If the stack has an even\r\n",
    "number of elements, return the lower of the two middle elements**"
   ]
  },
  {
   "cell_type": "code",
   "execution_count": 35,
   "id": "86d936b0-e16d-43dc-9e16-857ef54a5e88",
   "metadata": {},
   "outputs": [
    {
     "name": "stdout",
     "output_type": "stream",
     "text": [
      "3\n"
     ]
    }
   ],
   "source": [
    "class MidStack:\n",
    "    def __init__(self):\n",
    "        self.stack = []\n",
    "\n",
    "    def push(self, x):\n",
    "        self.stack.append(x)\n",
    "\n",
    "    def pop(self):\n",
    "        return self.stack.pop() if self.stack else None\n",
    "\n",
    "    def get_middle(self):\n",
    "        if self.stack:\n",
    "            mid = len(self.stack) // 2\n",
    "            return self.stack[mid]\n",
    "        return None\n",
    "\n",
    "s = MidStack()\n",
    "for num in [1, 2, 3, 4, 5]:\n",
    "    s.push(num)\n",
    "print(s.get_middle())"
   ]
  },
  {
   "cell_type": "markdown",
   "id": "aa2af793-4535-4899-a262-8da3ae936b50",
   "metadata": {},
   "source": [
    "**6. Remove Duplicates from a Stack**"
   ]
  },
  {
   "cell_type": "markdown",
   "id": "aaf02c70-e825-4676-8f78-f100b700e6ab",
   "metadata": {},
   "source": [
    "**• Implement a function that removes all duplicate elements from a stack. The stack\r\n",
    "is represented as a list, and the function should ensure the stack contains only unique\r\n",
    "elements in the order they first appear**ed"
   ]
  },
  {
   "cell_type": "code",
   "execution_count": 39,
   "id": "36d0604e-13a0-4420-8a2e-945ce315fac2",
   "metadata": {},
   "outputs": [
    {
     "name": "stdout",
     "output_type": "stream",
     "text": [
      "[2, 3, 1, 4]\n"
     ]
    }
   ],
   "source": [
    "def remove_duplicates(stack):\n",
    "    seen = set()\n",
    "    unique_stack = []\n",
    "\n",
    "    while stack:\n",
    "        item = stack.pop()\n",
    "        if item not in seen:\n",
    "            seen.add(item)\n",
    "            unique_stack.append(item)\n",
    "\n",
    "    while unique_stack:\n",
    "        stack.append(unique_stack.pop())\n",
    "\n",
    "stack = [4, 3, 2, 3, 1, 4]\n",
    "remove_duplicates(stack)\n",
    "print(stack) "
   ]
  },
  {
   "cell_type": "markdown",
   "id": "d5a31894-89cf-4634-b4a9-4d3cfa30faf5",
   "metadata": {},
   "source": [
    "**7. Implement Stack with Two Queues**"
   ]
  },
  {
   "cell_type": "markdown",
   "id": "556aa6d9-1f5a-49fe-8c6a-2a27be364e5d",
   "metadata": {},
   "source": [
    "**• Using two queues (represented by lists), implement a stack. Implement the\n",
    "following stack operations:\n",
    "o push(x): Add element x to the stack.\n",
    "o pop(): Remove and return the top element from the stack.\n",
    "o peek(): Return the top element without removing it.\n",
    "o is_empty(): Return whether the stack is empty.**"
   ]
  },
  {
   "cell_type": "code",
   "execution_count": 55,
   "id": "079908d6-9192-423f-a22b-9c0b138fcb40",
   "metadata": {},
   "outputs": [
    {
     "name": "stdout",
     "output_type": "stream",
     "text": [
      "2\n"
     ]
    }
   ],
   "source": [
    "from collections import deque\n",
    "\n",
    "class StackUsingQueues:\n",
    "    def __init__(self):\n",
    "        self.queue1 = deque()\n",
    "        self.queue2 = deque()\n",
    "\n",
    "    def push(self, x):\n",
    "        self.queue1.append(x)\n",
    "\n",
    "    def pop(self):\n",
    "        while len(self.queue1) > 1:\n",
    "            self.queue2.append(self.queue1.popleft())\n",
    "        popped_value = self.queue1.popleft() if self.queue1 else None\n",
    "        self.queue1, self.queue2 = self.queue2, self.queue1\n",
    "        return popped_value\n",
    "\n",
    "    def peek(self):\n",
    "        return self.queue1[-1] if self.queue1 else None\n",
    "\n",
    "    def is_empty(self):\n",
    "        return not self.queue1\n",
    "\n",
    "s = StackUsingQueues()\n",
    "s.push(1)\n",
    "s.push(2)\n",
    "print(s.pop())  "
   ]
  },
  {
   "cell_type": "markdown",
   "id": "be276968-836d-4b50-a0df-9db395d8d645",
   "metadata": {},
   "source": [
    "**8. Check if a Stack is Palindrome**"
   ]
  },
  {
   "cell_type": "markdown",
   "id": "cd1ca102-e34d-40f5-b2ef-68739b19796f",
   "metadata": {},
   "source": [
    "**• Implement a stack using a list and write a function to check whether the elements\r\n",
    "of a stack form a palindrome (i.e., the stack is the same when reversed**)"
   ]
  },
  {
   "cell_type": "code",
   "execution_count": 59,
   "id": "666150c2-1ee1-49bd-a6cf-ea1d4273f645",
   "metadata": {},
   "outputs": [
    {
     "name": "stdout",
     "output_type": "stream",
     "text": [
      "True\n",
      "False\n"
     ]
    }
   ],
   "source": [
    "def is_palindrome(stack):\n",
    "    return stack == stack[::-1]\n",
    "\n",
    "print(is_palindrome([1, 2, 3, 2, 1]))  \n",
    "print(is_palindrome([1, 2, 3]))  "
   ]
  },
  {
   "cell_type": "markdown",
   "id": "12c3356d-75c2-4a57-a3ff-2cae73fcb907",
   "metadata": {},
   "source": [
    "**9. Next Greater Element using Stack**"
   ]
  },
  {
   "cell_type": "markdown",
   "id": "6062c26c-07ef-4d50-a502-b61e3d50f372",
   "metadata": {},
   "source": [
    "**• Given a list of numbers, implement a stack to find the next greater element for each\n",
    "element in the list. For each element, find the nearest greater element that appears\n",
    "later in the list. If no greater element exists, return -1**"
   ]
  },
  {
   "cell_type": "code",
   "execution_count": 61,
   "id": "92d4dcdb-0ffe-49f5-96b7-0387b8cec2b1",
   "metadata": {},
   "outputs": [
    {
     "name": "stdout",
     "output_type": "stream",
     "text": [
      "[5, 25, 25, -1]\n"
     ]
    }
   ],
   "source": [
    "def next_greater_element(arr):\n",
    "    stack, result = [], [-1] * len(arr)\n",
    "\n",
    "    for i in range(len(arr) - 1, -1, -1):\n",
    "        while stack and stack[-1] <= arr[i]:\n",
    "            stack.pop()\n",
    "        if stack:\n",
    "            result[i] = stack[-1]\n",
    "        stack.append(arr[i])\n",
    "\n",
    "    return result\n",
    "\n",
    "print(next_greater_element([4, 5, 2, 25])) "
   ]
  },
  {
   "cell_type": "markdown",
   "id": "2f03740e-670d-49d4-b110-36d85012c41b",
   "metadata": {},
   "source": [
    "**10. Reverse a Queue using a Stack**"
   ]
  },
  {
   "cell_type": "markdown",
   "id": "fd5e5fb5-a5cb-408d-a14a-81c3513ee1ee",
   "metadata": {},
   "source": [
    "**• Given a queue, implement a stack to reverse the queue using only stack operations\r\n",
    "(push, pop). You cannot use any other additional data structures for storing\r\n",
    "intermediate elemen**ts"
   ]
  },
  {
   "cell_type": "code",
   "execution_count": 63,
   "id": "2097dc48-f3e8-4630-8e3e-aa14751f59a9",
   "metadata": {},
   "outputs": [
    {
     "name": "stdout",
     "output_type": "stream",
     "text": [
      "5 4 3 2 1 "
     ]
    }
   ],
   "source": [
    "from queue import Queue\n",
    "\n",
    "def reverse_queue(q):\n",
    "    stack = []\n",
    "    while not q.empty():\n",
    "        stack.append(q.get())\n",
    "\n",
    "    while stack:\n",
    "        q.put(stack.pop())\n",
    "\n",
    "# Example\n",
    "q = Queue()\n",
    "for i in range(1, 6):\n",
    "    q.put(i)\n",
    "\n",
    "reverse_queue(q)\n",
    "while not q.empty():\n",
    "    print(q.get(), end=\" \") "
   ]
  },
  {
   "cell_type": "markdown",
   "id": "e9611a42-df79-412c-aa29-e1d8c694264d",
   "metadata": {},
   "source": [
    "**11. Remove All Elements Less Than X**"
   ]
  },
  {
   "cell_type": "markdown",
   "id": "e83c22cb-b6a6-4604-936b-d56fb6a34756",
   "metadata": {},
   "source": [
    "**• Implement a stack using a list and write a function that removes all elements less\r\n",
    "than a given number X from the stack. After removing the elements, return the\r\n",
    "modified sta**ck"
   ]
  },
  {
   "cell_type": "code",
   "execution_count": 65,
   "id": "432f8c60-455e-483b-a737-7a00378ea7ee",
   "metadata": {},
   "outputs": [
    {
     "name": "stdout",
     "output_type": "stream",
     "text": [
      "[4, 7, 9]\n"
     ]
    }
   ],
   "source": [
    "def remove_less_than_x(stack, x):\n",
    "    filtered_stack = [item for item in stack if item >= x]\n",
    "    stack.clear()\n",
    "    stack.extend(filtered_stack)\n",
    "\n",
    "stack = [1, 4, 3, 7, 2, 9]\n",
    "remove_less_than_x(stack, 4)\n",
    "print(stack)"
   ]
  },
  {
   "cell_type": "code",
   "execution_count": null,
   "id": "acc6462d-c3b8-46f7-b5cd-fd3f1b95a475",
   "metadata": {},
   "outputs": [],
   "source": []
  }
 ],
 "metadata": {
  "kernelspec": {
   "display_name": "Python 3 (ipykernel)",
   "language": "python",
   "name": "python3"
  },
  "language_info": {
   "codemirror_mode": {
    "name": "ipython",
    "version": 3
   },
   "file_extension": ".py",
   "mimetype": "text/x-python",
   "name": "python",
   "nbconvert_exporter": "python",
   "pygments_lexer": "ipython3",
   "version": "3.12.4"
  }
 },
 "nbformat": 4,
 "nbformat_minor": 5
}
